{
 "cells": [
  {
   "cell_type": "code",
   "execution_count": 1,
   "id": "65456a57",
   "metadata": {},
   "outputs": [],
   "source": [
    "import numpy as np\n",
    "import random\n",
    "import matplotlib.pyplot as plt"
   ]
  },
  {
   "cell_type": "code",
   "execution_count": 2,
   "id": "4eeba60a",
   "metadata": {},
   "outputs": [],
   "source": [
    "x = np.random.normal(5,1,1000)"
   ]
  },
  {
   "cell_type": "code",
   "execution_count": 3,
   "id": "3505e977",
   "metadata": {},
   "outputs": [],
   "source": [
    "y = x*3.4 + 2.65 + np.random.randint(-8,8,1000)"
   ]
  },
  {
   "cell_type": "code",
   "execution_count": 4,
   "id": "a783f5ee",
   "metadata": {},
   "outputs": [],
   "source": [
    "x_train = x[0:800]\n",
    "x_test = x[800:]\n",
    "y_train = y[0:800]\n",
    "y_test = y[800:]"
   ]
  },
  {
   "cell_type": "code",
   "execution_count": 27,
   "id": "bd212f24",
   "metadata": {},
   "outputs": [],
   "source": [
    "theta = np.random.randint(1,10,size = (2,1))"
   ]
  },
  {
   "cell_type": "code",
   "execution_count": 28,
   "id": "0ccd3891",
   "metadata": {},
   "outputs": [
    {
     "data": {
      "text/plain": [
       "array([[2],\n",
       "       [5]])"
      ]
     },
     "execution_count": 28,
     "metadata": {},
     "output_type": "execute_result"
    }
   ],
   "source": [
    "theta"
   ]
  },
  {
   "cell_type": "code",
   "execution_count": 39,
   "id": "2e70be20",
   "metadata": {},
   "outputs": [
    {
     "name": "stdout",
     "output_type": "stream",
     "text": [
      "306113.2627767788\n",
      "[-1606924]\n",
      "257128.45640199893\n",
      "[-1349795]\n",
      "215982.5876525764\n",
      "[-1133812]\n",
      "181420.58031014947\n",
      "[-952391]\n",
      "152389.26002310083\n",
      "[-800001]\n",
      "128003.79477026034\n",
      "[-671997]\n",
      "107520.17458628482\n",
      "[-564476]\n",
      "90314.41461979771\n",
      "[-474161]\n",
      "75861.93233238942\n",
      "[-398299]\n",
      "63722.11842208204\n",
      "[-334576]\n",
      "53525.07072722741\n",
      "[-281050]\n",
      "44959.75321770935\n",
      "[-236090]\n",
      "37765.08120918403\n",
      "[-198324]\n",
      "31721.719120972848\n",
      "[-166602]\n",
      "26645.4743390314\n",
      "[-139956]\n",
      "22381.270629013743\n",
      "[-117574]\n",
      "18799.455547541384\n",
      "[-98774]\n",
      "15790.882256504055\n",
      "[-82983]\n",
      "13263.612791913358\n",
      "[-69719]\n",
      "11141.084444275808\n",
      "[-58577]\n",
      "9358.141631096212\n",
      "[-49218]\n",
      "7860.165010191796\n",
      "[-41357]\n",
      "6602.121421489432\n",
      "[-34754]\n",
      "5545.400149436419\n",
      "[-29208]\n",
      "4657.746426221927\n",
      "[-24550]\n",
      "3912.29869883589\n",
      "[-20637]\n",
      "3285.888002998998\n",
      "[-17351]\n",
      "2759.775856291557\n",
      "[-14591]\n",
      "2317.795289049704\n",
      "[-12273]\n",
      "1946.7593766882765\n",
      "[-10326]\n",
      "1634.9189566646498\n",
      "[-8691]\n",
      "1373.1090539304003\n",
      "[-7317]\n",
      "1153.206597895148\n",
      "[-6163]\n",
      "968.2887654603537\n",
      "[-5194]\n",
      "813.1333595974398\n",
      "[-4380]\n",
      "682.9140408623153\n",
      "[-3697]\n",
      "573.2794989122821\n",
      "[-3123]\n",
      "481.26236340700837\n",
      "[-2641]\n",
      "403.8825892677957\n",
      "[-2237]\n",
      "338.80617828949886\n",
      "[-1898]\n",
      "284.18683610672684\n",
      "[-1613]\n",
      "238.3366113878862\n",
      "[-1374]\n",
      "199.80506735207604\n",
      "[-1174]\n",
      "167.6294710581524\n",
      "[-1006]\n",
      "140.43855724211357\n",
      "[-865]\n",
      "117.83646831946906\n",
      "[-747]\n",
      "98.68945357691098\n",
      "[-648]\n",
      "82.68082694684736\n",
      "[-565]\n",
      "69.16454155572583\n",
      "[-495]\n",
      "57.90308285285265\n",
      "[-437]\n",
      "48.408746998471635\n",
      "[-388]\n",
      "40.44401944188876\n",
      "[-347]\n",
      "33.52119634334803\n",
      "[-313]\n",
      "27.969638508809425\n",
      "[-285]\n",
      "23.710174421374997\n",
      "[-261]\n",
      "20.175928724390605\n",
      "[-240]\n",
      "16.879197578100268\n",
      "[-223]\n",
      "14.307684822259986\n",
      "[-208]\n",
      "12.303047423073792\n",
      "[-195]\n",
      "10.456753057683596\n",
      "[-184]\n",
      "8.768801726089407\n",
      "[-175]\n",
      "7.647725751149304\n",
      "[-167]\n",
      "6.605821293107199\n",
      "[-160]\n",
      "5.643088351963097\n",
      "[-154]\n",
      "4.759526927717004\n",
      "[-149]\n",
      "3.955137020368919\n",
      "[-145]\n",
      "3.638450952776889\n",
      "[-141]\n",
      "3.3217648851848662\n",
      "[-137]\n",
      "3.0050788175928393\n",
      "[-133]\n",
      "2.688392750000812\n",
      "[-130]\n",
      "2.450878199306793\n",
      "[-127]\n",
      "2.2133636486127766\n",
      "[-124]\n",
      "1.9758490979187562\n",
      "[-122]\n",
      "1.817506064122743\n",
      "[-120]\n",
      "1.6591630303267306\n",
      "[-118]\n",
      "1.5008199965307167\n",
      "[-116]\n",
      "1.342476962734705\n",
      "[-114]\n",
      "1.1841339289386918\n",
      "[-112]\n",
      "1.0257908951426793\n",
      "[-110]\n",
      "0.8674478613466668\n",
      "[-109]\n",
      "0.7882763444486592\n",
      "[-108]\n",
      "0.7091048275506535\n",
      "[-107]\n",
      "0.6299333106526467\n",
      "[-106]\n",
      "0.5507617937546408\n",
      "[-105]\n",
      "0.4715902768566339\n",
      "[-104]\n",
      "0.3924187599586275\n",
      "[-103]\n",
      "0.3132472430606211\n",
      "[-102]\n",
      "0.23407572616261482\n",
      "[-101]\n",
      "0.15490420926460838\n",
      "[-100]\n",
      "0.07573269236660193\n",
      "[-99]\n",
      "-0.003438824531404511\n",
      "[-99]\n",
      "-0.003438824531404511\n",
      "[-99]\n",
      "-0.003438824531404511\n",
      "[-99]\n",
      "-0.003438824531404511\n",
      "[-99]\n",
      "-0.003438824531404511\n",
      "[-99]\n",
      "-0.003438824531404511\n",
      "[-99]\n",
      "-0.003438824531404511\n",
      "[-99]\n",
      "-0.003438824531404511\n",
      "[-99]\n",
      "-0.003438824531404511\n",
      "[-99]\n",
      "-0.003438824531404511\n",
      "[-99]\n"
     ]
    },
    {
     "data": {
      "text/plain": [
       "array([[ 23],\n",
       "       [-99]])"
      ]
     },
     "execution_count": 39,
     "metadata": {},
     "output_type": "execute_result"
    }
   ],
   "source": [
    "for i in range(100):\n",
    "    y_pred = theta[:-1] * x_train + theta[-1]\n",
    "    diff_b = (-2/1000) * np.dot(x_train.reshape(800,1).T,(y_pred.T - y_train.reshape(1,800).T)).sum()\n",
    "    diff_theta = (-2/1000) *np.sum(y_pred - y_train)\n",
    "    print(0.01*diff_b)\n",
    "    theta[-1] = theta[-1] + 0.01*diff_b\n",
    "    print(theta[-1])\n",
    "    theta[:-1] = theta[:-1] + 0.01*diff_theta\n",
    "theta"
   ]
  },
  {
   "cell_type": "code",
   "execution_count": 40,
   "id": "e1b97268",
   "metadata": {},
   "outputs": [
    {
     "data": {
      "text/plain": [
       "array([[ 23],\n",
       "       [-99]])"
      ]
     },
     "execution_count": 40,
     "metadata": {},
     "output_type": "execute_result"
    }
   ],
   "source": [
    "theta"
   ]
  },
  {
   "cell_type": "code",
   "execution_count": 41,
   "id": "d750a5f4",
   "metadata": {},
   "outputs": [],
   "source": [
    "x_train = x_train.reshape(800)"
   ]
  },
  {
   "cell_type": "code",
   "execution_count": 42,
   "id": "251f76dd",
   "metadata": {},
   "outputs": [
    {
     "data": {
      "text/plain": [
       "(-5.0, 40.0)"
      ]
     },
     "execution_count": 42,
     "metadata": {},
     "output_type": "execute_result"
    },
    {
     "data": {
      "image/png": "[encoded data removed]",
      "text/plain": [
       "<Figure size 432x288 with 1 Axes>"
      ]
     },
     "metadata": {
      "needs_background": "light"
     },
     "output_type": "display_data"
    }
   ],
   "source": [
    "plt.scatter(x_train,y_train)\n",
    "plt.plot(x_train,27*x_train-120,color = \"r\")\n",
    "plt.xlim([2,9])\n",
    "plt.ylim([-5,40])"
   ]
  },
  {
   "cell_type": "code",
   "execution_count": null,
   "id": "a105fc1a",
   "metadata": {},
   "outputs": [],
   "source": []
  }
 ],
 "metadata": {
  "kernelspec": {
   "display_name": "Python 3 (ipykernel)",
   "language": "python",
   "name": "python3"
  },
  "language_info": {
   "codemirror_mode": {
    "name": "ipython",
    "version": 3
   },
   "file_extension": ".py",
   "mimetype": "text/x-python",
   "name": "python",
   "nbconvert_exporter": "python",
   "pygments_lexer": "ipython3",
   "version": "3.10.5"
  }
 },
 "nbformat": 4,
 "nbformat_minor": 5
}
